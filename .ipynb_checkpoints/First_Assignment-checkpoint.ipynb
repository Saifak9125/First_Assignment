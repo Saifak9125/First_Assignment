{
 "cells": [
  {
   "cell_type": "markdown",
   "id": "c2fce528-da30-45d1-9e95-f4c6dabded03",
   "metadata": {
    "tags": []
   },
   "source": [
    "#  Assignment"
   ]
  },
  {
   "cell_type": "markdown",
   "id": "4a75209b-5eb3-4938-b7c4-30c0b522f219",
   "metadata": {},
   "source": [
    "### 1.Explain the key features of Python that take it a popular choice for programming."
   ]
  },
  {
   "cell_type": "markdown",
   "id": "59a33196-cf84-43b4-b41b-729986df9227",
   "metadata": {},
   "source": [
    "#### Ans:  Python is a popular programming language known for its simplicity, versatility and wide range of application.\n",
    "####       There are some features mentions below:\n",
    "####       -> Easy to learn : Python is easy to learn and use because it has simple ans easy readable syntax.\n",
    "####       -> Versatility: Python is used in wide range fields like web development, ML and Data Science etc.\n",
    "####       -> Interpreted language: Python is a interpreted language means it execute code line by line.\n",
    "####       -> A lot of Labraries: Python has huge range of inbuilt modules and functions to maipulate data and handing                  etc.\n",
    "####       -> Continuous Improvement: Python is maintained and regularly updated with new features, improvemnt and     security enhancemnet."
   ]
  },
  {
   "cell_type": "markdown",
   "id": "7dc9e78c-c64a-4430-955e-d5b82106f2ff",
   "metadata": {},
   "source": [
    "## 2. Describe the role of predefined keywords in Python and provide examples of how they are used in a program."
   ]
  },
  {
   "cell_type": "markdown",
   "id": "f09f49e6-173a-46d3-99c1-eba4fe35fbf4",
   "metadata": {},
   "source": [
    "### Ans: Python has a predefined keywords also known for reserved word. Keywords have diffrent work in programming . they can not taken as Identifier(Variable, name ,function etc) in code. Here are some example of Keyword -"
   ]
  },
  {
   "cell_type": "code",
   "execution_count": 1,
   "id": "fdd79e43-3909-4cf4-961c-ae6cdd0a3e7b",
   "metadata": {},
   "outputs": [
    {
     "name": "stdout",
     "output_type": "stream",
     "text": [
      "['False', 'None', 'True', 'and', 'as', 'assert', 'async', 'await', 'break', 'class', 'continue', 'def', 'del', 'elif', 'else', 'except', 'finally', 'for', 'from', 'global', 'if', 'import', 'in', 'is', 'lambda', 'nonlocal', 'not', 'or', 'pass', 'raise', 'return', 'try', 'while', 'with', 'yield']\n"
     ]
    }
   ],
   "source": [
    "import keyword\n",
    "print(keyword.kwlist)"
   ]
  },
  {
   "cell_type": "markdown",
   "id": "27c0dda5-bc26-46b8-9cdd-6349193eff00",
   "metadata": {},
   "source": [
    "### Using if, else, elif Keyword\n"
   ]
  },
  {
   "cell_type": "code",
   "execution_count": 3,
   "id": "803dccf0-16b8-46da-8c8e-a55a5201835c",
   "metadata": {},
   "outputs": [
    {
     "name": "stdin",
     "output_type": "stream",
     "text": [
      "Enter a number:  10\n"
     ]
    },
    {
     "name": "stdout",
     "output_type": "stream",
     "text": [
      "The number is positive\n"
     ]
    }
   ],
   "source": [
    "#if is used for check condition statement in python.\n",
    "\n",
    "#code\n",
    "num = int(input(\"Enter a number: \"))\n",
    "if num >0: \n",
    "    print(\"The number is positive\")\n",
    "elif num == 0:\n",
    "    print(\"The number is zero\")\n",
    "else:\n",
    "    print(\"The number is negative\")"
   ]
  },
  {
   "cell_type": "markdown",
   "id": "b769b568-388d-4d89-aa7e-e5916191c7e2",
   "metadata": {},
   "source": [
    "### Using for and in keyword "
   ]
  },
  {
   "cell_type": "code",
   "execution_count": 4,
   "id": "f6075f96-8754-40a6-bac0-61ff78b50c6a",
   "metadata": {},
   "outputs": [
    {
     "name": "stdout",
     "output_type": "stream",
     "text": [
      "* * * * \n",
      "* * * * \n",
      "* * * * \n",
      "* * * * \n"
     ]
    }
   ],
   "source": [
    "#For is loop statement is used to iterate data\n",
    "\n",
    "#code\n",
    "for i in range(4):\n",
    "    for j in range(4):\n",
    "        print(\"*\", end = \" \")\n",
    "    print()"
   ]
  },
  {
   "cell_type": "markdown",
   "id": "6300448a-c936-48f6-8528-535f0881be4d",
   "metadata": {},
   "source": [
    "### Using Break Keyword"
   ]
  },
  {
   "cell_type": "code",
   "execution_count": 5,
   "id": "917b30df-e6cd-40f3-90ba-e17bc7070f27",
   "metadata": {},
   "outputs": [
    {
     "name": "stdout",
     "output_type": "stream",
     "text": [
      "0\n",
      "1\n",
      "2\n"
     ]
    }
   ],
   "source": [
    "#Break Statement is used to terminate the execution.\n",
    "\n",
    "#code\n",
    "num = 0\n",
    "while num<= 5:\n",
    "    if num == 3:\n",
    "        break\n",
    "    print(num)\n",
    "    num = num + 1"
   ]
  },
  {
   "cell_type": "markdown",
   "id": "c16800b0-86f1-4a2c-9662-37db39677217",
   "metadata": {},
   "source": [
    "### Using Continue Keyword"
   ]
  },
  {
   "cell_type": "code",
   "execution_count": 2,
   "id": "8076299f-31b4-40ee-ab2f-74c916c4535c",
   "metadata": {},
   "outputs": [
    {
     "name": "stdout",
     "output_type": "stream",
     "text": [
      "0\n",
      "1\n",
      "2\n",
      "4\n"
     ]
    }
   ],
   "source": [
    "#Continue Statement used to skip the code in loop\n",
    "\n",
    "#code\n",
    "for i in range(5):\n",
    "    if i == 3:\n",
    "        continue\n",
    "    print(i)"
   ]
  },
  {
   "cell_type": "markdown",
   "id": "0a8da9d6-a0c0-45e7-8d35-6901b120ad16",
   "metadata": {},
   "source": [
    "## 3. Compase and contrast mutable and immutable objects in Python with examples."
   ]
  },
  {
   "cell_type": "markdown",
   "id": "09271229-506b-4aaf-8ca4-f12e825011dc",
   "metadata": {},
   "source": [
    " ## Mutable Object:\n",
    " ### Mutbale object are those object which allows to change and modification after creation.\n",
    " ### for example:-\n",
    " ### List\n",
    " ### Sets\n",
    " ### Dictionary"
   ]
  },
  {
   "cell_type": "code",
   "execution_count": 5,
   "id": "61384a1b-a9ac-43a5-a6eb-ffa5e05f20aa",
   "metadata": {},
   "outputs": [
    {
     "name": "stdout",
     "output_type": "stream",
     "text": [
      "[1, 2, 9, 4, 5, 6]\n"
     ]
    }
   ],
   "source": [
    "#Creating a list and change  the 2nd index element.\n",
    "\n",
    "#code\n",
    "my_list = [1,2,3,4,5,6]\n",
    "my_list[2] = 9\n",
    "print(my_list)"
   ]
  },
  {
   "cell_type": "markdown",
   "id": "4b34d1e3-0fec-4823-8a1d-efdf2d6aa687",
   "metadata": {},
   "source": [
    "## Immutable Object:\n",
    "### Immutable object are those objet that does not allow any chnage and modification after creation.\n",
    "### for example:-\n",
    "### tuple\n",
    "### String"
   ]
  },
  {
   "cell_type": "code",
   "execution_count": 7,
   "id": "4e10869e-5e02-40c4-a80b-8ecdfd5954fe",
   "metadata": {},
   "outputs": [
    {
     "ename": "TypeError",
     "evalue": "'tuple' object does not support item assignment",
     "output_type": "error",
     "traceback": [
      "\u001b[0;31m---------------------------------------------------------------------------\u001b[0m",
      "\u001b[0;31mTypeError\u001b[0m                                 Traceback (most recent call last)",
      "Cell \u001b[0;32mIn[7], line 5\u001b[0m\n\u001b[1;32m      1\u001b[0m \u001b[38;5;66;03m#creating a tuple and changing the 2nd indexed element it will show error.\u001b[39;00m\n\u001b[1;32m      2\u001b[0m \n\u001b[1;32m      3\u001b[0m \u001b[38;5;66;03m#code\u001b[39;00m\n\u001b[1;32m      4\u001b[0m my_tuple \u001b[38;5;241m=\u001b[39m (\u001b[38;5;124m\"\u001b[39m\u001b[38;5;124mcar\u001b[39m\u001b[38;5;124m\"\u001b[39m,\u001b[38;5;124m\"\u001b[39m\u001b[38;5;124mbike\u001b[39m\u001b[38;5;124m\"\u001b[39m,\u001b[38;5;124m\"\u001b[39m\u001b[38;5;124mbus\u001b[39m\u001b[38;5;124m\"\u001b[39m,\u001b[38;5;124m\"\u001b[39m\u001b[38;5;124mtrain\u001b[39m\u001b[38;5;124m\"\u001b[39m)\n\u001b[0;32m----> 5\u001b[0m \u001b[43mmy_tuple\u001b[49m\u001b[43m[\u001b[49m\u001b[38;5;241;43m2\u001b[39;49m\u001b[43m]\u001b[49m \u001b[38;5;241m=\u001b[39m \u001b[38;5;124m\"\u001b[39m\u001b[38;5;124mcycle\u001b[39m\u001b[38;5;124m\"\u001b[39m\n\u001b[1;32m      6\u001b[0m \u001b[38;5;28mprint\u001b[39m(my_tuple)\n",
      "\u001b[0;31mTypeError\u001b[0m: 'tuple' object does not support item assignment"
     ]
    }
   ],
   "source": [
    "#creating a tuple and changing the 2nd indexed element it will show error.\n",
    "\n",
    "#code\n",
    "my_tuple = (\"car\",\"bike\",\"bus\",\"train\")\n",
    "my_tuple[2] = \"cycle\"\n",
    "print(my_tuple)"
   ]
  },
  {
   "cell_type": "markdown",
   "id": "ffa578eb-d3a7-47f2-b6af-d12e1d1f5978",
   "metadata": {},
   "source": [
    "## 4. Discuss the different types of operators in Python and provide examples of how they are used."
   ]
  },
  {
   "cell_type": "markdown",
   "id": "f00afeed-cb0e-4b5f-adb3-f9cbdecb572f",
   "metadata": {},
   "source": [
    "## Operator:\n",
    "### Operators are the special symbol and keyword that are used to perform operations on operand."
   ]
  },
  {
   "cell_type": "markdown",
   "id": "6ae9f94b-1b2c-4900-a9b7-aa573ceea7f7",
   "metadata": {},
   "source": [
    "## Arithmetic Operator\n",
    "### Used to perform mathematical operation"
   ]
  },
  {
   "cell_type": "code",
   "execution_count": 6,
   "id": "ca006d24-5b3a-47c2-aeac-1c5641e28c6a",
   "metadata": {},
   "outputs": [
    {
     "name": "stdout",
     "output_type": "stream",
     "text": [
      "5\n"
     ]
    }
   ],
   "source": [
    "#\"+\" Addition Operation : used to add two operand.\n",
    "\n",
    "#code\n",
    "x = 2+3\n",
    "print(x)"
   ]
  },
  {
   "cell_type": "code",
   "execution_count": 7,
   "id": "ada95fe6-e4b1-467b-8757-ff6f0f0da029",
   "metadata": {},
   "outputs": [
    {
     "name": "stdout",
     "output_type": "stream",
     "text": [
      "3\n"
     ]
    }
   ],
   "source": [
    "#\"-\" Substraction Operation: Used to substract left operand from right.\n",
    "\n",
    "#code\n",
    "x = 5-2\n",
    "print(x)"
   ]
  },
  {
   "cell_type": "code",
   "execution_count": 8,
   "id": "db38204e-7591-48f6-a09a-2731c3a80809",
   "metadata": {},
   "outputs": [
    {
     "name": "stdout",
     "output_type": "stream",
     "text": [
      "15\n"
     ]
    }
   ],
   "source": [
    "#\"*\"Multiplication Operation: Used to multiply two operand.\n",
    "\n",
    "#code\n",
    "x = 5*3\n",
    "print(x)"
   ]
  },
  {
   "cell_type": "code",
   "execution_count": 9,
   "id": "89b33eef-e9fe-41b4-94e7-912194b97a52",
   "metadata": {},
   "outputs": [
    {
     "name": "stdout",
     "output_type": "stream",
     "text": [
      "2.0\n"
     ]
    }
   ],
   "source": [
    "#\"/\" Division Operation: Used to divide two operand.\n",
    "\n",
    "#code\n",
    "x = 8/4\n",
    "print(x)"
   ]
  },
  {
   "cell_type": "code",
   "execution_count": 10,
   "id": "16f214b2-c51d-48d3-aac9-ced32bcb39f1",
   "metadata": {},
   "outputs": [
    {
     "name": "stdout",
     "output_type": "stream",
     "text": [
      "1\n"
     ]
    }
   ],
   "source": [
    "#\"%\"Modulus Operation: returns the remainder value.\n",
    "\n",
    "#code\n",
    "x = 9%2\n",
    "print(x)"
   ]
  },
  {
   "cell_type": "code",
   "execution_count": 11,
   "id": "3bf58994-780e-42f0-a3be-c9f0f1e98be2",
   "metadata": {},
   "outputs": [
    {
     "name": "stdout",
     "output_type": "stream",
     "text": [
      "2\n"
     ]
    }
   ],
   "source": [
    "#\"//\"Floor Operation: returns the nearest value.\n",
    "\n",
    "#code\n",
    "x = 7//3\n",
    "print(x)"
   ]
  },
  {
   "cell_type": "markdown",
   "id": "2c96b792-efed-44d4-8259-eadf3ff1f83b",
   "metadata": {},
   "source": [
    "## Comperision Operator\n",
    "### Used to compare two value and return a Boolean (True or False)"
   ]
  },
  {
   "cell_type": "code",
   "execution_count": 12,
   "id": "cf989ec5-5059-4b83-88e0-1c9510136c67",
   "metadata": {},
   "outputs": [
    {
     "name": "stdout",
     "output_type": "stream",
     "text": [
      "False\n"
     ]
    }
   ],
   "source": [
    "#\"==\" equal: return True if both value are equal.\n",
    "\n",
    "#code\n",
    "x = (5 == 3)\n",
    "print(x)"
   ]
  },
  {
   "cell_type": "code",
   "execution_count": 14,
   "id": "1af68a74-90b8-40b2-98ec-4daf40b1c4cc",
   "metadata": {},
   "outputs": [
    {
     "name": "stdout",
     "output_type": "stream",
     "text": [
      "True\n"
     ]
    }
   ],
   "source": [
    "#\">\" Greater than : return True if left value is greater than right.\n",
    "\n",
    "#code\n",
    "x = (5 > 3)\n",
    "print(x)"
   ]
  },
  {
   "cell_type": "code",
   "execution_count": 15,
   "id": "77e8d18a-53cd-437b-95f5-787fbf8db807",
   "metadata": {},
   "outputs": [
    {
     "name": "stdout",
     "output_type": "stream",
     "text": [
      "False\n"
     ]
    }
   ],
   "source": [
    "#\"<\"Less than : return true if left value is less than right.\n",
    "\n",
    "#code\n",
    "x = (5 < 3)\n",
    "print(x)"
   ]
  },
  {
   "cell_type": "code",
   "execution_count": 17,
   "id": "cdbe26e8-83df-4ce5-913a-dfa6a7820f92",
   "metadata": {
    "tags": []
   },
   "outputs": [
    {
     "name": "stdout",
     "output_type": "stream",
     "text": [
      "True\n"
     ]
    }
   ],
   "source": [
    "#\">=\" Greater than equal: return true if left value is greater or equal to right.\n",
    "\n",
    "#code\n",
    "x = (5 >= 3)\n",
    "print(x)"
   ]
  },
  {
   "cell_type": "code",
   "execution_count": 18,
   "id": "50f7e62b-eb73-4497-af48-5c3d8af6543d",
   "metadata": {},
   "outputs": [
    {
     "name": "stdout",
     "output_type": "stream",
     "text": [
      "False\n"
     ]
    }
   ],
   "source": [
    "#\"<=\" Less than Equal: return true if left value is less than or equal to right.\n",
    "\n",
    "#code\n",
    "x = (5 <= 3)\n",
    "print(x)"
   ]
  },
  {
   "cell_type": "code",
   "execution_count": 21,
   "id": "83e9ba70-ff5f-4a62-9b77-984e932c6b6d",
   "metadata": {},
   "outputs": [
    {
     "name": "stdout",
     "output_type": "stream",
     "text": [
      "True\n"
     ]
    }
   ],
   "source": [
    "#\"!=\" Not  Equal : return true if both are not equal.\n",
    "\n",
    "#code\n",
    "x = (5 != 3)\n",
    "print(x)"
   ]
  },
  {
   "cell_type": "markdown",
   "id": "9eb1b5da-af18-4b8e-b305-1df54eb99ef1",
   "metadata": {},
   "source": [
    "## Logical Operator\n",
    "### Used to joined the conditional statemnet."
   ]
  },
  {
   "cell_type": "code",
   "execution_count": 22,
   "id": "96c859ce-8b47-4890-a72a-5fe9b1352171",
   "metadata": {},
   "outputs": [
    {
     "name": "stdout",
     "output_type": "stream",
     "text": [
      "True\n"
     ]
    }
   ],
   "source": [
    "#\"and\": check if both condition are true it returns true.\n",
    "\n",
    "#code\n",
    "x = (5>3 and 3>1)\n",
    "print(x)"
   ]
  },
  {
   "cell_type": "code",
   "execution_count": 23,
   "id": "7b1e4328-8d21-4804-a444-c1e6f101b851",
   "metadata": {},
   "outputs": [
    {
     "name": "stdout",
     "output_type": "stream",
     "text": [
      "True\n"
     ]
    }
   ],
   "source": [
    "#\"or\": check if atleast one condition is true it returns true.\n",
    "\n",
    "#code\n",
    "x = (5>3 or 3>6)\n",
    "print(x)"
   ]
  },
  {
   "cell_type": "code",
   "execution_count": 24,
   "id": "00b26826-b388-41b1-b85f-abcc93268759",
   "metadata": {},
   "outputs": [
    {
     "name": "stdout",
     "output_type": "stream",
     "text": [
      "False\n"
     ]
    }
   ],
   "source": [
    "#\"not\": it reverse the result if true it return false\n",
    "\n",
    "#code\n",
    "x = not(5>2)\n",
    "print(x)"
   ]
  },
  {
   "cell_type": "markdown",
   "id": "94eea25e-0243-4f0a-a196-2bd25ec4fc82",
   "metadata": {},
   "source": [
    "## Assignment Operator\n",
    "### Used to assign the value to variable"
   ]
  },
  {
   "cell_type": "code",
   "execution_count": 26,
   "id": "9147f7b9-4479-4652-bb3e-c0d024603a37",
   "metadata": {},
   "outputs": [
    {
     "name": "stdout",
     "output_type": "stream",
     "text": [
      "5\n"
     ]
    }
   ],
   "source": [
    "#\"=\" used to assign the rigth side value to the left side operand.\n",
    "\n",
    "#code\n",
    "x = 5\n",
    "print(x)"
   ]
  },
  {
   "cell_type": "code",
   "execution_count": 27,
   "id": "549d11a8-a170-4421-badd-229036d1b3ab",
   "metadata": {},
   "outputs": [
    {
     "name": "stdout",
     "output_type": "stream",
     "text": [
      "4\n"
     ]
    }
   ],
   "source": [
    "#\"+=\": used to add right side operand with left side operand and assign  the result to left operand.\n",
    "\n",
    "#code\n",
    "x =2 \n",
    "x += 2\n",
    "print(x)"
   ]
  },
  {
   "cell_type": "code",
   "execution_count": 28,
   "id": "873d1235-ff6c-42b6-9d39-d2bd0a7e7452",
   "metadata": {},
   "outputs": [
    {
     "name": "stdout",
     "output_type": "stream",
     "text": [
      "3\n"
     ]
    }
   ],
   "source": [
    "#\"-=\": used to subtract  right side operand from left side operand and assign the result to left operand.\n",
    "\n",
    "#code\n",
    "x = 5\n",
    "x -= 2\n",
    "print(x)"
   ]
  },
  {
   "cell_type": "code",
   "execution_count": 1,
   "id": "2491cc67-be66-4753-9591-f0f2e3a49508",
   "metadata": {},
   "outputs": [
    {
     "name": "stdout",
     "output_type": "stream",
     "text": [
      "8\n"
     ]
    }
   ],
   "source": [
    "#\"*=\": used to multiply right operand with left operand and assign the result to left operand.\n",
    "\n",
    "#code\n",
    "x = 4\n",
    "x *= 2\n",
    "print(x)"
   ]
  },
  {
   "cell_type": "code",
   "execution_count": 2,
   "id": "b42bee79-96c1-4066-9d20-fad25b029a36",
   "metadata": {},
   "outputs": [
    {
     "name": "stdout",
     "output_type": "stream",
     "text": [
      "3.0\n"
     ]
    }
   ],
   "source": [
    "#\"/=\": used to divide the left operand with right operand and assign the result to left operand.\n",
    "\n",
    "#code\n",
    "x = 6\n",
    "x /= 2\n",
    "print(x)"
   ]
  },
  {
   "cell_type": "code",
   "execution_count": 3,
   "id": "b88a1e9f-bf77-4920-88e2-93400f72144b",
   "metadata": {},
   "outputs": [
    {
     "name": "stdout",
     "output_type": "stream",
     "text": [
      "1\n"
     ]
    }
   ],
   "source": [
    "#\"%=\": used to divide left operand with right operand and assign the remainder to the left operand\n",
    "\n",
    "#code\n",
    "x = 7\n",
    "x %= 2\n",
    "print(x)"
   ]
  },
  {
   "cell_type": "code",
   "execution_count": 4,
   "id": "8e1f726d-b1d1-4f63-9f32-392d62b182a9",
   "metadata": {},
   "outputs": [
    {
     "name": "stdout",
     "output_type": "stream",
     "text": [
      "2\n"
     ]
    }
   ],
   "source": [
    "#\"//=\": used to divide left operand with right operand and then assign the nearest value to the left operand.\n",
    "\n",
    "#code\n",
    "x = 9\n",
    "x //= 4\n",
    "print(x)"
   ]
  },
  {
   "cell_type": "markdown",
   "id": "f5f1fbda-684e-4d52-a32a-63344e48215e",
   "metadata": {},
   "source": [
    "## Membership Operator\n",
    "### Used to test if a sequence is present in the object."
   ]
  },
  {
   "cell_type": "code",
   "execution_count": 1,
   "id": "d504c9e5-6a0b-477c-9dcf-271cc34727e8",
   "metadata": {},
   "outputs": [
    {
     "name": "stdout",
     "output_type": "stream",
     "text": [
      "True\n"
     ]
    }
   ],
   "source": [
    "#\"in\" return true if sequence with specified value is present in the object.\n",
    "\n",
    "#code\n",
    "String = \"Rahul\"\n",
    "print('h' in String)"
   ]
  },
  {
   "cell_type": "code",
   "execution_count": 2,
   "id": "9a435546-50ed-4a91-96ee-05ead196507a",
   "metadata": {},
   "outputs": [
    {
     "name": "stdout",
     "output_type": "stream",
     "text": [
      "False\n"
     ]
    }
   ],
   "source": [
    "#\"not in \" return false if sequence with specified vale is present in the object.\n",
    "\n",
    "#code\n",
    "my_list = [1,3,5,7,8]\n",
    "print(3 not in my_list)"
   ]
  },
  {
   "cell_type": "markdown",
   "id": "4eda3a98-6fd4-4f09-b665-f8ca3c7aef3b",
   "metadata": {},
   "source": [
    "## Identity Operator\n",
    "### Compare the object if they are actually same object with same memory location."
   ]
  },
  {
   "cell_type": "code",
   "execution_count": 5,
   "id": "b686a81d-36bd-4be2-a8e1-194ee191662d",
   "metadata": {},
   "outputs": [
    {
     "name": "stdout",
     "output_type": "stream",
     "text": [
      "True\n"
     ]
    }
   ],
   "source": [
    "#\"is\" return true if the object are same with same memory location.\n",
    "\n",
    "#code\n",
    "my_list1 = [1,2,3,4,5]\n",
    "my_list2 = my_list1\n",
    "print (my_list1 is my_list2)"
   ]
  },
  {
   "cell_type": "code",
   "execution_count": 8,
   "id": "f67a2341-c961-43d7-9a11-12823aec1d8a",
   "metadata": {},
   "outputs": [
    {
     "name": "stdout",
     "output_type": "stream",
     "text": [
      "True\n"
     ]
    }
   ],
   "source": [
    "#\"is not\" return true if the object are not same with diffrent memory location.\n",
    "\n",
    "#code\n",
    "my_list1 = [1,2,3,4,5]\n",
    "my_list2 = [1,2,3,4,5]\n",
    "print(my_list1 is not my_list2)"
   ]
  },
  {
   "cell_type": "markdown",
   "id": "c98a5ad4-9131-435a-92c7-f6e7689f6d0b",
   "metadata": {},
   "source": [
    "## Bitwise Oprator\n",
    "### Used to compare binary numbers."
   ]
  },
  {
   "cell_type": "code",
   "execution_count": 13,
   "id": "61483a5a-6ede-4819-ae00-222577858180",
   "metadata": {},
   "outputs": [
    {
     "name": "stdout",
     "output_type": "stream",
     "text": [
      "5\n"
     ]
    }
   ],
   "source": [
    "#\"& ,And\" Set each bit 1 if both bit are 1.\n",
    "\n",
    "#code\n",
    "a = 5\n",
    "b = 7\n",
    "print(a & b)"
   ]
  },
  {
   "cell_type": "code",
   "execution_count": 14,
   "id": "62c6b121-614e-4084-ab70-71dd05ecb2e4",
   "metadata": {},
   "outputs": [
    {
     "name": "stdout",
     "output_type": "stream",
     "text": [
      "10\n"
     ]
    }
   ],
   "source": [
    "#\"|,OR\" Set each bit 1 if one of two bit is 1\n",
    "\n",
    "#code\n",
    "a = 10\n",
    "b = 8\n",
    "print(a | b)"
   ]
  },
  {
   "cell_type": "code",
   "execution_count": 15,
   "id": "0cd539d0-04aa-4bfc-9b1a-5e0607dbdcb2",
   "metadata": {},
   "outputs": [
    {
     "name": "stdout",
     "output_type": "stream",
     "text": [
      "2\n"
     ]
    }
   ],
   "source": [
    "#\"^ XOR\" Set each bit 1 if only one of two bit is 1\n",
    "\n",
    "#code\n",
    "a = 7\n",
    "b = 5\n",
    "print(a ^ b)"
   ]
  },
  {
   "cell_type": "code",
   "execution_count": 19,
   "id": "28bab1f7-7cec-4847-b837-b6af4519fee8",
   "metadata": {},
   "outputs": [
    {
     "name": "stdout",
     "output_type": "stream",
     "text": [
      "-6\n"
     ]
    }
   ],
   "source": [
    "#\"~, NOT\" Invert all bits.\n",
    "\n",
    "#code\n",
    "a = 5\n",
    "print(~(a))"
   ]
  },
  {
   "cell_type": "code",
   "execution_count": 23,
   "id": "53437c16-73c9-4f2b-8b3b-8d60a2fd1eca",
   "metadata": {},
   "outputs": [
    {
     "name": "stdout",
     "output_type": "stream",
     "text": [
      "70\n"
     ]
    }
   ],
   "source": [
    "#\"<< left shift\" Shift left by pushing zeros in from the right and let the leftmost bits fall of.\n",
    "\n",
    "#code\n",
    "a = 35 #data\n",
    "b = 1  #shift\n",
    "print(a<<b)"
   ]
  },
  {
   "cell_type": "code",
   "execution_count": 24,
   "id": "b0823b98-ba2e-4dbf-990a-1d9305ba1210",
   "metadata": {},
   "outputs": [
    {
     "name": "stdout",
     "output_type": "stream",
     "text": [
      "17\n"
     ]
    }
   ],
   "source": [
    "#\"Right Shift\"  shift\tShift right by pushing copies of the leftmost bit in from the left, and let the rightmost bits fall off\n",
    "\n",
    "#code\n",
    "a = 35 #data\n",
    "b =1 #shift\n",
    "print(a>>1)"
   ]
  },
  {
   "cell_type": "markdown",
   "id": "bc7432c7-d236-4a28-862b-d17933262af9",
   "metadata": {},
   "source": [
    "# 5. Explain the concept of type casting in Python with examples."
   ]
  },
  {
   "cell_type": "markdown",
   "id": "61fbe7f0-c6d1-4eaf-a3f4-b901515f4d4d",
   "metadata": {},
   "source": [
    "## Type Casting\n",
    "### The process of changing the data type of a value is called type casting.\n",
    "### Two type of casting"
   ]
  },
  {
   "cell_type": "markdown",
   "id": "5da83d3c-d7bb-42c9-86be-0bdc92ae857d",
   "metadata": {},
   "source": [
    "## 1.Implicit Type Casting: \n",
    "### In this method one data type convert into another data type automatically."
   ]
  },
  {
   "cell_type": "code",
   "execution_count": 25,
   "id": "e914635d-7616-4733-90d5-d99fd6028763",
   "metadata": {},
   "outputs": [
    {
     "name": "stdout",
     "output_type": "stream",
     "text": [
      "<class 'int'>\n",
      "<class 'float'>\n",
      "<class 'float'>\n"
     ]
    }
   ],
   "source": [
    "#code\n",
    "a = 5\n",
    "print(type(a))\n",
    "b = 3.0\n",
    "print(type(b))\n",
    "print(type(a+b))"
   ]
  },
  {
   "cell_type": "markdown",
   "id": "fbc6db26-ed87-4fcd-af04-0fb5923cc57b",
   "metadata": {},
   "source": [
    "## 2. Explicit Type Casting\n",
    "### In this method one data type convert into another data type manually by the user."
   ]
  },
  {
   "cell_type": "code",
   "execution_count": 28,
   "id": "b8b31160-7943-4186-82d5-82efe73c4f64",
   "metadata": {},
   "outputs": [
    {
     "name": "stdout",
     "output_type": "stream",
     "text": [
      "<class 'float'>\n",
      "<class 'float'>\n",
      "<class 'int'>\n"
     ]
    }
   ],
   "source": [
    "#code\n",
    "\n",
    "a = 6.0\n",
    "print(type(a))\n",
    "b = 7.0\n",
    "print(type(b))\n",
    "c = int(a+b)\n",
    "print(type(c))"
   ]
  },
  {
   "cell_type": "markdown",
   "id": "5b9608eb-3cbd-446c-a611-e81378d08a13",
   "metadata": {},
   "source": [
    "# 6. How do conditional statements work in Python? Illustrate with examples."
   ]
  },
  {
   "cell_type": "markdown",
   "id": "af535814-337b-4e83-96b8-33ae3665d06d",
   "metadata": {},
   "source": [
    "## Conditional Statements:\n",
    "### This type of statemnets helps you to code  decision based on some pre condition."
   ]
  },
  {
   "cell_type": "markdown",
   "id": "d50a5d88-f00b-4301-b516-beb0a78da9f9",
   "metadata": {},
   "source": [
    "## 1. If Statement\n",
    "### The block of code will be execute if the given condition will be true."
   ]
  },
  {
   "cell_type": "code",
   "execution_count": 32,
   "id": "5981cb64-06d3-4954-81ba-ad4e1e68587c",
   "metadata": {},
   "outputs": [
    {
     "name": "stdout",
     "output_type": "stream",
     "text": [
      "a is greater than b\n"
     ]
    }
   ],
   "source": [
    "#code\n",
    "\n",
    "a = 5\n",
    "b = 4\n",
    "if a>b:\n",
    "    print(\"a is greater than b\")"
   ]
  },
  {
   "cell_type": "markdown",
   "id": "533a084e-20d0-402e-967a-1dc1375dab34",
   "metadata": {},
   "source": [
    "## 2. If Else Statemnet:\n",
    "### In this statement an additional block of code is merged and this block of code will be execute when the if condition false."
   ]
  },
  {
   "cell_type": "code",
   "execution_count": 34,
   "id": "91eae421-c736-46ea-99f9-4d82d0d6cdf6",
   "metadata": {},
   "outputs": [
    {
     "name": "stdout",
     "output_type": "stream",
     "text": [
      "b is greater than a\n"
     ]
    }
   ],
   "source": [
    "a = 4\n",
    "b = 5\n",
    "if a > b:\n",
    "    print(\"a is greater than b\")\n",
    "else:\n",
    "    print(\"b is greater than a\")"
   ]
  },
  {
   "cell_type": "markdown",
   "id": "de057aca-d441-4f62-964c-49df57af146a",
   "metadata": {},
   "source": [
    "## 3.Elif Statement:\n",
    "### In this statemnet if condition will be executed untill this elif condition false ."
   ]
  },
  {
   "cell_type": "code",
   "execution_count": 40,
   "id": "6c486e3c-71dc-4585-a996-1a75fa4e0919",
   "metadata": {},
   "outputs": [
    {
     "name": "stdin",
     "output_type": "stream",
     "text": [
      "Enter your age:  62\n"
     ]
    },
    {
     "name": "stdout",
     "output_type": "stream",
     "text": [
      "you are Senior Citizen\n"
     ]
    }
   ],
   "source": [
    "#code\n",
    "\n",
    "age = int(input(\"Enter your age: \"))\n",
    "if age <18 :\n",
    "    print(\"You are not adult\")\n",
    "elif age >= 18 and age < 60:\n",
    "    print(\"You are adult\")\n",
    "else:\n",
    "    print(\"you are Senior Citizen\")\n",
    "    "
   ]
  },
  {
   "cell_type": "markdown",
   "id": "bcc13958-2e75-457d-a250-59f8eb439ed2",
   "metadata": {},
   "source": [
    "## 4. Nested If- Else\n",
    "### Nested if - else mean if - else conition in another if - else condition."
   ]
  },
  {
   "cell_type": "code",
   "execution_count": 41,
   "id": "a2bd96d8-f422-436f-a2e8-646cd0fee965",
   "metadata": {},
   "outputs": [
    {
     "name": "stdout",
     "output_type": "stream",
     "text": [
      "letter is not A,B,C,D\n"
     ]
    }
   ],
   "source": [
    "# code\n",
    "\n",
    "letter = 'A'\n",
    "if letter == 'B':\n",
    "    print(\"letter is B\")\n",
    "else:\n",
    "    if letter == 'C':\n",
    "        print(\"letter is C\")\n",
    "    else:\n",
    "        if letter == 'D':\n",
    "            print(\"letter is D\")\n",
    "        else:\n",
    "            print(\"letter is not A,B,C,D\")"
   ]
  },
  {
   "cell_type": "markdown",
   "id": "c15415ef-b5c9-44dd-be07-164d22fe72a5",
   "metadata": {},
   "source": [
    "# 7. Describe the different types of loops in Python and their use cases with examples."
   ]
  },
  {
   "cell_type": "markdown",
   "id": "a1be2140-52a8-4b33-9b1f-b373bbc1a4dc",
   "metadata": {},
   "source": [
    "## Loop Statement:\n",
    "### Loop Statement is used to execute a block of code more than one time."
   ]
  },
  {
   "cell_type": "markdown",
   "id": "79441dc3-5297-4ec8-b2b7-873d379a1109",
   "metadata": {},
   "source": [
    "## 1. While loop:\n",
    "### This Statemnet first check the condition if condition is true then it execute the block of code untill condition get false."
   ]
  },
  {
   "cell_type": "code",
   "execution_count": 44,
   "id": "05d60c54-e453-40ea-9014-032226581330",
   "metadata": {},
   "outputs": [
    {
     "name": "stdout",
     "output_type": "stream",
     "text": [
      "1\n",
      "2\n",
      "3\n",
      "4\n",
      "5\n",
      "6\n",
      "7\n",
      "8\n",
      "9\n",
      "10\n"
     ]
    }
   ],
   "source": [
    "#code\n",
    "\n",
    "a = 1 \n",
    "while a <= 10:\n",
    "    print(a)\n",
    "    a = a+1"
   ]
  },
  {
   "cell_type": "markdown",
   "id": "85808886-12cd-4263-9d95-84ff4cd8fb14",
   "metadata": {},
   "source": [
    "## 2. For Loop Statement:\n",
    "### This loop iterate over a sequence that is list, tuple, set, dictionry and string."
   ]
  },
  {
   "cell_type": "code",
   "execution_count": 45,
   "id": "1166eca5-0c79-4f02-9911-a6721d1c3bbe",
   "metadata": {},
   "outputs": [
    {
     "name": "stdout",
     "output_type": "stream",
     "text": [
      "car\n",
      "bus\n",
      "truck\n",
      "cycle\n"
     ]
    }
   ],
   "source": [
    "#code\n",
    "my_tuple = (\"car\",\"bus\",\"truck\",\"cycle\")\n",
    "for i in my_tuple:\n",
    "    print(i)"
   ]
  },
  {
   "cell_type": "code",
   "execution_count": 46,
   "id": "c217c81f-1a27-419f-9c8e-d5908bfb1f99",
   "metadata": {},
   "outputs": [
    {
     "name": "stdout",
     "output_type": "stream",
     "text": [
      "* * * * \n",
      "* * * * \n",
      "* * * * \n",
      "* * * * \n"
     ]
    }
   ],
   "source": [
    "# star patter using for loop\n",
    "\n",
    "#code\n",
    "for i in range(4):\n",
    "    for j in range(4):\n",
    "        print(\"*\", end=\" \")\n",
    "    print()"
   ]
  },
  {
   "cell_type": "code",
   "execution_count": null,
   "id": "1fe90ee1-b618-4066-847c-ce3fc3385a0d",
   "metadata": {},
   "outputs": [],
   "source": []
  }
 ],
 "metadata": {
  "kernelspec": {
   "display_name": "Python 3 (ipykernel)",
   "language": "python",
   "name": "python3"
  },
  "language_info": {
   "codemirror_mode": {
    "name": "ipython",
    "version": 3
   },
   "file_extension": ".py",
   "mimetype": "text/x-python",
   "name": "python",
   "nbconvert_exporter": "python",
   "pygments_lexer": "ipython3",
   "version": "3.10.8"
  }
 },
 "nbformat": 4,
 "nbformat_minor": 5
}
